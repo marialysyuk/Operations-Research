{
 "cells": [
  {
   "cell_type": "markdown",
   "metadata": {},
   "source": [
    "##### Read data"
   ]
  },
  {
   "cell_type": "code",
   "execution_count": 16,
   "metadata": {},
   "outputs": [],
   "source": [
    "import math"
   ]
  },
  {
   "cell_type": "code",
   "execution_count": 17,
   "metadata": {},
   "outputs": [],
   "source": [
    "with open('SVO_timetable.csv') as f:\n",
    "    content = f.readlines()\n",
    "content = [x.split(\";\") for x in content]\n",
    "content = content[1:]\n",
    "timetable = []\n",
    "data = []\n",
    "for elem in content:\n",
    "    timetable.append(elem[0])\n",
    "for i in range(108):\n",
    "    data.append(int(content[i][1]))"
   ]
  },
  {
   "cell_type": "markdown",
   "metadata": {},
   "source": [
    "##### First route: airplanes -> temporary storage"
   ]
  },
  {
   "cell_type": "markdown",
   "metadata": {},
   "source": [
    "This function reshuffles carriers inside the first route. If at monent i there isn't enough carriers\n",
    "at slot i, it adds new ones. Otherwise it adss extra carriers from slot i to slot i+1. Irrespective\n",
    "of the amount of carriers at moment i it adds all carriers to the slot i+4 (in 20 minutes all carriers going to the temporary storage will come back) and adds all containres to the array at slot i+20 (in maximum 1:40 minutes these containers should be taken from the temporary storage to be delivered to terminal in maximum 2 hours)."
   ]
  },
  {
   "cell_type": "markdown",
   "metadata": {},
   "source": [
    "Constants: 108(+4) - amount of slots from 9:00 to 17:55 + 4(to fulfill the condition of returning carriers to airplanes); 128(+4)- amount of slots 9:00 to 17:55 + 2 hours (the last containers deliverd at 17:55 have to be taken maximum at 19:35).  "
   ]
  },
  {
   "cell_type": "code",
   "execution_count": 18,
   "metadata": {},
   "outputs": [],
   "source": [
    "def first_route(content):\n",
    "    first = [[] for i in range(1, 113)]\n",
    "    Q1 = 0\n",
    "    weights = [0 for i in range(1, 131)]\n",
    "    for i in range(len(content)):\n",
    "        weights[i+20] = content[i]\n",
    "        size = math.ceil(content[i]/4)\n",
    "        if size > len(first[i]):\n",
    "            temp = Q1\n",
    "            Q1 += size-len(first[i])\n",
    "            for j in range(temp+1, temp+size-len(first[i])+1):\n",
    "                first[i].append(j)\n",
    "        else:\n",
    "            while len(first[i]) > size:\n",
    "                extra = first[i][-1]\n",
    "                first[i].pop()\n",
    "                first[i+1].append(extra)\n",
    "        for k in first[i]:\n",
    "            first[i+4].append(k)\n",
    "    return Q1, first, weights"
   ]
  },
  {
   "cell_type": "code",
   "execution_count": 19,
   "metadata": {},
   "outputs": [],
   "source": [
    "Q1 = first_route(data)[0]\n",
    "first = first_route(data)[1]\n",
    "weights = first_route(data)[2]"
   ]
  },
  {
   "cell_type": "markdown",
   "metadata": {},
   "source": [
    "##### Amount of airplnes at route airplanes -> temporary storage"
   ]
  },
  {
   "cell_type": "code",
   "execution_count": 20,
   "metadata": {},
   "outputs": [
    {
     "name": "stdout",
     "output_type": "stream",
     "text": [
      "15\n"
     ]
    }
   ],
   "source": [
    "print(Q1)"
   ]
  },
  {
   "cell_type": "markdown",
   "metadata": {},
   "source": [
    "##### Carriers' movement map at route airplanes -> temporary storage"
   ]
  },
  {
   "cell_type": "code",
   "execution_count": 21,
   "metadata": {},
   "outputs": [],
   "source": [
    "with open(\"SVO_first.txt\", 'w') as f:\n",
    "    for i in range(108):\n",
    "        f.write(timetable[i] +\" %s\\n\" % first[i])"
   ]
  },
  {
   "cell_type": "markdown",
   "metadata": {},
   "source": [
    "##### Optimization of containers' amount spread over the time grid"
   ]
  },
  {
   "cell_type": "markdown",
   "metadata": {},
   "source": [
    "To minimize the amount of carriers the containers can be rebalanced only to slots were amount of containers is not divisible by 4. From 10:40 (slot 21) to 19:35 (slot 128) containers can be rebalanced and 20 is the starting point of weights distribution."
   ]
  },
  {
   "cell_type": "code",
   "execution_count": 22,
   "metadata": {},
   "outputs": [],
   "source": [
    "def weights_rebalance(weights):\n",
    "    for i in range(20, 128):\n",
    "        for j in range(max(20,i-18), i):\n",
    "            if weights[j] % 4 != 0:\n",
    "                if weights[j] < 4 and weights[i]-(4-weights[j]) >= 0 and weights[i]-(4-weights[j]) % 4 != 0 :\n",
    "                    weights[i] -= 4-weights[j]\n",
    "                    weights[j] += 4-weights[j]\n",
    "                elif weights[j] < 8 and weights[i]-(8-weights[j]) >= 0 and weights[i]-(8-weights[j]) % 4 != 0 :\n",
    "                    weights[i] -= 8-weights[j]\n",
    "                    weights[j] += 8-weights[j]\n",
    "                elif weights[j] < 12 and weights[i]-(12-weights[j]) >= 0 and weights[i]-(12-weights[j]) % 4 != 0 :\n",
    "                    weights[i] -= 12-weights[j]\n",
    "                    weights[j] += 12-weights[j]\n",
    "                elif weights[j] < 16 and weights[i]-(16-weights[j]) >= 0 and weights[i]-(16-weights[j]) % 4 != 0 :\n",
    "                    weights[i] -= 16-weights[j]\n",
    "                    weights[j] += 16-weights[j]\n",
    "    return weights"
   ]
  },
  {
   "cell_type": "code",
   "execution_count": 23,
   "metadata": {},
   "outputs": [],
   "source": [
    "weights = weights_rebalance(weights)"
   ]
  },
  {
   "cell_type": "markdown",
   "metadata": {},
   "source": [
    "##### Distribution of containers' amount taken from the temporary storage spread over the time grid"
   ]
  },
  {
   "cell_type": "code",
   "execution_count": 24,
   "metadata": {},
   "outputs": [],
   "source": [
    "with open(\"SVO_weights.txt\", 'w') as f:\n",
    "    for i in range(len(weights)):\n",
    "        f.write(timetable[i] +\" %s\\n\" % weights[i])"
   ]
  },
  {
   "cell_type": "markdown",
   "metadata": {},
   "source": [
    "##### Carriers' transfer from route 1 to route 2 "
   ]
  },
  {
   "cell_type": "markdown",
   "metadata": {},
   "source": [
    "Transfer consists of two parts. In the first part carriers which arrive at the temporary storage from 5:50 p.m. to 6:05 p.m. will not have time to come back, so from this point they are fully availiable at route 2. All other carries are also transfered from the planes to temprorary storage to route 2 (the condition that they will not be in need is checked upside down)."
   ]
  },
  {
   "cell_type": "code",
   "execution_count": 25,
   "metadata": {},
   "outputs": [],
   "source": [
    "def transfer(first):\n",
    "    second = [[] for i in range(1, 133)]\n",
    "    temp = set()\n",
    "    for i in range(104, 108):\n",
    "        for elem in first[i]:\n",
    "            second[i+2].append(elem)\n",
    "            temp.add(elem)\n",
    "    while len(temp) < Q1:\n",
    "        for j in range(103, 0, -1):\n",
    "            for k in range(len(first[j])):\n",
    "                if first[j][k] not in temp:\n",
    "                    second[j+2].append(first[j][k])\n",
    "                    temp.add(first[j][k])\n",
    "    return second"
   ]
  },
  {
   "cell_type": "code",
   "execution_count": 26,
   "metadata": {},
   "outputs": [],
   "source": [
    "second = transfer(first)"
   ]
  },
  {
   "cell_type": "markdown",
   "metadata": {},
   "source": [
    "##### Routes: temporary storage -> terminal"
   ]
  },
  {
   "cell_type": "markdown",
   "metadata": {},
   "source": [
    "The logic of carriers' distribution at route 2 is similar to route 1."
   ]
  },
  {
   "cell_type": "code",
   "execution_count": 27,
   "metadata": {},
   "outputs": [],
   "source": [
    "def second_route(Q1, weights, second):\n",
    "    Q2 = Q1\n",
    "    for i in range(20, 128):\n",
    "        size = math.ceil(weights[i]/4)\n",
    "        if size > len(second[i]):\n",
    "            temp = Q2\n",
    "            Q2 += size-len(second[i])\n",
    "            for j in range(temp+1, temp+size-len(second[i])+1):\n",
    "                second[i].append(j)\n",
    "        else:\n",
    "            while len(second[i]) > size:\n",
    "                temp1 = second[i][-1]\n",
    "                second[i].pop()\n",
    "                second[i+1].append(temp1)\n",
    "        if i < 124: \n",
    "            for k in second[i]:\n",
    "                second[i+8].append(k)\n",
    "    return second, Q2\n",
    "    "
   ]
  },
  {
   "cell_type": "code",
   "execution_count": 28,
   "metadata": {},
   "outputs": [],
   "source": [
    "Q2 = second_route(Q1, weights, second)[1]\n",
    "second = second_route(Q1, weights, second)[0]"
   ]
  },
  {
   "cell_type": "markdown",
   "metadata": {},
   "source": [
    "##### Necessary carriers' amount at two routes"
   ]
  },
  {
   "cell_type": "code",
   "execution_count": 29,
   "metadata": {},
   "outputs": [
    {
     "name": "stdout",
     "output_type": "stream",
     "text": [
      "38\n"
     ]
    }
   ],
   "source": [
    "print(Q2)"
   ]
  },
  {
   "cell_type": "markdown",
   "metadata": {},
   "source": [
    "##### Carriers' movement map at route temporary storage -> terminal"
   ]
  },
  {
   "cell_type": "code",
   "execution_count": 30,
   "metadata": {},
   "outputs": [],
   "source": [
    "with open(\"SVO_second.txt\", 'w') as f:\n",
    "    for i in range(128):\n",
    "        f.write(timetable[i] +\" %s\\n\" % second[i])"
   ]
  }
 ],
 "metadata": {
  "kernelspec": {
   "display_name": "Python 3",
   "language": "python",
   "name": "python3"
  },
  "language_info": {
   "codemirror_mode": {
    "name": "ipython",
    "version": 3
   },
   "file_extension": ".py",
   "mimetype": "text/x-python",
   "name": "python",
   "nbconvert_exporter": "python",
   "pygments_lexer": "ipython3",
   "version": "3.7.6"
  }
 },
 "nbformat": 4,
 "nbformat_minor": 4
}
